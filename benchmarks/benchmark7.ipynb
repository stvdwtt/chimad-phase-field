{
 "cells": [
  {
   "cell_type": "code",
   "execution_count": 158,
   "metadata": {},
   "outputs": [
    {
     "data": {
      "application/javascript": [
       "    MathJax.Hub.Config({\n",
       "      TeX: { equationNumbers: { autoNumber: \"AMS\" } }\n",
       "    });"
      ],
      "text/plain": [
       "<IPython.core.display.Javascript object>"
      ]
     },
     "metadata": {},
     "output_type": "display_data"
    }
   ],
   "source": [
    "%%javascript\n",
    "    MathJax.Hub.Config({\n",
    "      TeX: { equationNumbers: { autoNumber: \"AMS\" } }\n",
    "    });"
   ]
  },
  {
   "cell_type": "code",
   "execution_count": 159,
   "metadata": {},
   "outputs": [
    {
     "data": {
      "text/html": [
       "<script>\n",
       "code_show=true; \n",
       "function code_toggle() {\n",
       " if (code_show){\n",
       " $('div.input').hide();\n",
       " $('div.prompt').hide();\n",
       " } else {\n",
       " $('div.input').show();\n",
       "$('div.prompt').show();\n",
       " }\n",
       " code_show = !code_show\n",
       "} \n",
       "$( document ).ready(code_toggle);\n",
       "</script>\n",
       "<form action=\"javascript:code_toggle()\"><input type=\"submit\" value=\"Code Toggle\"></form>"
      ],
      "text/plain": [
       "<IPython.core.display.HTML object>"
      ]
     },
     "execution_count": 159,
     "metadata": {},
     "output_type": "execute_result"
    }
   ],
   "source": [
    "from IPython.display import HTML\n",
    "\n",
    "HTML('''<script>\n",
    "code_show=true; \n",
    "function code_toggle() {\n",
    " if (code_show){\n",
    " $('div.input').hide();\n",
    " $('div.prompt').hide();\n",
    " } else {\n",
    " $('div.input').show();\n",
    "$('div.prompt').show();\n",
    " }\n",
    " code_show = !code_show\n",
    "} \n",
    "$( document ).ready(code_toggle);\n",
    "</script>\n",
    "<form action=\"javascript:code_toggle()\"><input type=\"submit\" value=\"Code Toggle\"></form>''')"
   ]
  },
  {
   "cell_type": "code",
   "execution_count": 160,
   "metadata": {},
   "outputs": [
    {
     "data": {
      "text/html": [
       "\n",
       "<a href=\"{{ site.links.github }}/raw/nist-pages/benchmarks/benchmark7.ipynb\"\n",
       "   download>\n",
       "<button type=\"submit\">Download Notebook</button>\n",
       "</a>\n"
      ],
      "text/plain": [
       "<IPython.core.display.HTML object>"
      ]
     },
     "execution_count": 160,
     "metadata": {},
     "output_type": "execute_result"
    }
   ],
   "source": [
    "from IPython.display import HTML\n",
    "\n",
    "HTML('''\n",
    "<a href=\"{{ site.links.github }}/raw/nist-pages/benchmarks/benchmark7.ipynb\"\n",
    "   download>\n",
    "<button type=\"submit\">Download Notebook</button>\n",
    "</a>\n",
    "''')"
   ]
  },
  {
   "cell_type": "markdown",
   "metadata": {},
   "source": [
    "# Benchmark Problem 7: MMS Allen-Cahn"
   ]
  },
  {
   "cell_type": "code",
   "execution_count": 161,
   "metadata": {},
   "outputs": [
    {
     "data": {
      "text/html": [
       "{% include jupyter_benchmark_table.html num=\"[7]\" revision=0 %}"
      ],
      "text/plain": [
       "<IPython.core.display.HTML object>"
      ]
     },
     "execution_count": 161,
     "metadata": {},
     "output_type": "execute_result"
    }
   ],
   "source": [
    "from IPython.display import HTML\n",
    "\n",
    "HTML('''{% include jupyter_benchmark_table.html num=\"[7]\" revision=0 %}''')"
   ]
  },
  {
   "cell_type": "markdown",
   "metadata": {},
   "source": [
    "* [Overview](#Overview)\n",
    "* [Governing equation and manufactured solution](#Governing-equation-and-manufactured-solution)\n",
    "* [Domain geometry, boundary conditions, initial conditions, and stopping condition](#Domain-geometry,-boundary-conditions,-initial-conditions,-and-stopping-condition)\n",
    "* [Parameter values](#Parameter-values)\n",
    "* [Benchmark simulation instructions](#Benchmark-simulation-instructions)\n",
    "    * [Part (a)](#Part-%28a%29)\n",
    "    * [Part (b)](#Part-%28b%29)\n",
    "    * [Part (c)](#Part-%28c%29)\n",
    "* [Results](#Results)\n",
    "* [Feedback](#Feedback)\n",
    "* [Appendix](#Appendix)\n",
    "    * [Computer algebra systems](#Computer-algebra-systems)\n",
    "    * [Source equation](#Source-equation)\n",
    "    * [Code](#Code)\n",
    "\n",
    "\n",
    "See the journal publication entitled [\"Benchmark problems for numerical implementations of phase field models\"][benchmark_paper] for more details about the benchmark problems. Furthermore, read [the extended essay][benchmarks] for a discussion about the need for benchmark problems.\n",
    "\n",
    "[benchmarks]: ../\n",
    "[benchmark_paper]: http://dx.doi.org/10.1016/j.commatsci.2016.09.022"
   ]
  },
  {
   "cell_type": "markdown",
   "metadata": {},
   "source": [
    "# Overview"
   ]
  },
  {
   "cell_type": "markdown",
   "metadata": {},
   "source": [
    "The Method of Manufactured Solutions (MMS) is a powerful technique for verifying the accuracy of a simulation code. In the MMS, one picks a desired solution to the problem at the outset, the \"manufactured solution\", and then determines the governing equation that will result in that solution. With the exact analytical form of the solution in hand, when the governing equation is solved using a particular simulation code, the deviation from the expected solution can be determined exactly. This deviation can be converted into an error metric to rigously quantify the error for a calculation. This error can be used to determine the order of accuracy of the simulation results to verify simulation codes. It can also be used to compare the computational efficiency of different codes or different approaches for a particular code at a certain level of error. Furthermore, the spatial/temporal distribution can give insight into the conditions resulting in the largest error (high gradients, changes in mesh resolution, etc.).\n",
    "\n",
    "After choosing a manufactured solution, the governing equation must be modified to force the solution to equal the manufactured solution. This is accomplished by taking the nominal equation that is to be solved (e.g.  Allen-Cahn equation, Cahn-Hilliard equation, Fick's second law, Laplace equation) and adding a source term. This source term is determined by plugging the manufactured solution into the nominal governing equation and setting the source term equal to the residual. Thus, the manufactured solution satisfies the MMS governing equation (the nominal governing equation plus the source term). A more detailed discussion of MMS can be found in [the report by Salari and Knupp][mms_report].\n",
    "\n",
    "In this benchmark problem, the objective is to use the MMS to rigorously verify phase field simulation codes and then provide a basis of comparison for the computational performance between codes and for various settings for a single code, as discussed above. To this end, the benchmark problem was chosen as a balance between two factors: simplicity, to minimize the development effort required to solve the benchmark, and transferability to a real phase field system of physical interest. \n",
    "\n",
    "[mms_report]: http://prod.sandia.gov/techlib/access-control.cgi/2000/001444.pdf"
   ]
  },
  {
   "cell_type": "markdown",
   "metadata": {},
   "source": [
    "# Governing equation and manufactured solution\n",
    "For this benchmark problem, we use a simple Allen-Cahn equation as the governing equation\n",
    "\n",
    "$$\\begin{equation}\n",
    "\\frac{\\partial \\eta}{\\partial t} = - \\left[ 4 \\eta \\left(\\eta - 1 \\right) \\left(\\eta-\\frac{1}{2} \\right) - \\kappa \\nabla^2 \\eta \\right] + S(x,y,t) \n",
    "\\end{equation}$$\n",
    "\n",
    "where $S(x,y,t)$ is the MMS source term and $\\kappa$ is a constant parameter (the gradient energy coefficient). \n",
    "\n",
    "The manufactured solution, $\\eta_{sol}$ is a hyperbolic tangent function, shifted to vary between 0 and 1, with the $x$ position of the middle of the interface ($\\eta_{sol}=0.5$) given by the function $\\alpha(x,t)$:\n",
    "\n",
    "$$\\begin{equation}\n",
    "\\eta_{sol}(x,y,t) = \\frac{1}{2}\\left[ 1 - \\tanh\\left( \\frac{y-\\alpha(x,t)}{\\sqrt{2 \\kappa}} \\right) \\right] \n",
    "\\end{equation}$$\n",
    "\n",
    "$$\\begin{equation}\n",
    "\\alpha(x,t) = \\frac{1}{4} + A_1 t \\sin\\left(B_1 x \\right) + A_2 \\sin \\left(B_2  x + C_2 t \\right)\n",
    "\\end{equation}$$\n",
    "\n",
    "where $A_1$, $B_1$, $A_2$, $B_2$, and $C_2$ are constant parameters. \n",
    "\n",
    "This manufactured solution is an equilbrium solution of the governing equation, when $S(x,y,t)=0$ and $\\alpha(x,t)$ is constant. The closeness of this manufactured solution to a solution of the nominal governing equation increases the likihood that the behavior of simulation codes when solving this benchmark problem is representive of the solution of the regular Allen-Cahn equation (i.e. without the source term). The form of $\\alpha(x,t)$ was chosen to yield complex behavior while still retaining a (somewhat) simple functional form. The two spatial sinusoidal terms introduce two controllable length scales to the interfacial shape. Summing them gives a  \"beat\" pattern with a period longer than the period of either individual term, permitting a domain size that is larger than the wavelength of the sinusoids without a repeating pattern. The temporal sinusoidal term introduces a controllable time scale to the interfacial shape in addition to the phase transformation time scale, while the linear temporal dependence of the other term ensures that the sinusoidal term can go through multiple periods without $\\eta_{sol}$ repeating itself.\n",
    "\n",
    "Inserting the manufactured solution into the governing equation and solving for $S(x,y,t)$ yields:\n",
    "\n",
    "$$\\begin{equation}\n",
    "S(x,y,t) = \\frac{\\text{sech}^2 \\left[ \\frac{y-\\alpha(x,t)}{\\sqrt{2 \\kappa}} \\right]}{4 \\sqrt{\\kappa}} \\left[-2\\sqrt{\\kappa} \\tanh \\left[\\frac{y-\\alpha(x,t)}{\\sqrt{2 \\kappa}} \\right] \\left(\\frac{\\partial \\alpha(x,t)}{\\partial x} \\right)^2+\\sqrt{2} \\left[ \\frac{\\partial \\alpha(x,t)}{\\partial t}-\\kappa \\frac{\\partial^2 \\alpha(x,t)}{\\partial x^2} \\right] \\right]\n",
    "\\end{equation}$$\n",
    "\n",
    "where $\\alpha(x,t)$ is given above and where:\n",
    "\n",
    "$$\\begin{equation}\n",
    "\\frac{\\partial \\alpha(x,t)}{\\partial x} = A_1 B_1 t \\cos\\left(B_1 x\\right) + A_2 B_2 \\cos \\left(B_2  x + C_2 t \\right)\n",
    "\\end{equation}$$\n",
    "\n",
    "$$\\begin{equation}\n",
    "\\frac{\\partial^2 \\alpha(x,t)}{\\partial x^2} = -A_1 B_1^2 t \\sin\\left(B_1 x\\right) - A_2 B_2^2 \\sin \\left(B_2  x + C_2 t \\right)\n",
    "\\end{equation}$$\n",
    "\n",
    "$$\\begin{equation}\n",
    "\\frac{\\partial \\alpha(x,t)}{\\partial t} = A_1 \\sin\\left(B_1 x\\right) + A_2 C_2 \\cos \\left(B_2  x + C_2 t \\right)\n",
    "\\end{equation}$$\n",
    "\n",
    "#### *N.B.*: Don't transcribe these equations. Please download the appropriate files from the [Appendix](#Appendix)."
   ]
  },
  {
   "cell_type": "markdown",
   "metadata": {},
   "source": [
    "# Domain geometry, boundary conditions, initial conditions, and stopping condition\n",
    "The domain geometry is a rectangle that spans [0, 1] in $x$ and [0, 0.5] in $y$. This elongated domain was chosen to allow multiple peaks and valleys in $\\eta_{sol}$ without stretching the interface too much in the $y$ direction (which causes the thickness of the interface to change) or having large regions where $\\eta_{sol}$  never deviates from 0 or 1. Periodic boundary conditions are applied along the $x = 0$ and the $x = 1$ boundaries to accomodate the periodicity of $\\alpha(x,t)$. Dirichlet boundary conditions of $\\eta$ = 0 and $\\eta$ = 1 are applied along the $y = 0$ and the $y = 0.5$ boundaries, respectively. These boundary conditions are chosen to be consistent with $\\eta_{sol}(x,y,t)$. The initial condition is the manufactured solution at $t = 0$:\n",
    "\n",
    "$$\n",
    "\\begin{equation}\n",
    "\\eta_{sol}(x,y,0) = \\frac{1}{2}\\left[ 1 - \\tanh\\left( \\frac{y-\\left(\\frac{1}{4}+A_2 \\sin(B_2 x) \\right)}{\\sqrt{2 \\kappa}} \\right) \\right] \n",
    "\\end{equation}\n",
    "$$\n",
    "\n",
    "The stopping condition for all calculations is when t = 8 time units, which was chosen to let $\\alpha(x,t)$ evolve substantially, while still being slower than the characteristic time for the phase evolution (determined by the CFL condition for a uniform mesh with a reasonable level of resolution of $\\eta_{sol}$)."
   ]
  },
  {
   "cell_type": "markdown",
   "metadata": {},
   "source": [
    "# Parameter values\n",
    "The nominal parameter values for the governing equation and manufactured solution are given below. The value of $\\kappa$ will change in Part (b) in the following section and the values of $\\kappa$ and $C_2$ will change in Part (c).\n",
    "\n",
    "| Parameter | Value |\n",
    "|-----------|-------|\n",
    "| $\\kappa$  | 0.0004|\n",
    "| $A_1$     | 0.0075|\n",
    "| $B_1$     | 0.03  |\n",
    "| $A_2$     | 8.0   |\n",
    "| $B_2$     | 22.0  |\n",
    "| $C_2$     | 0.0625|"
   ]
  },
  {
   "cell_type": "markdown",
   "metadata": {},
   "source": [
    "# Benchmark simulation instructions\n",
    "This section describes three sets of tests to conduct using the MMS problem specified above. The primary purpose of the first test is provide a computationally inexpensive problem to verify a simulation code. The second and third tests are more computationally demanding and are primarily designed to serve as a basis for performance comparisons."
   ]
  },
  {
   "cell_type": "markdown",
   "metadata": {},
   "source": [
    "## Part (a)\n",
    "The objective of this test is to verify the accuracy of your simulation code in both time and space. Here, we make use of convergence tests, where either the mesh size (or grid point spacing) or the time step size is systematically changed to determine the response of the error to these quantities. Once a convergence test is completed the order of accuracy can be calculated from the result. The order of accuracy can be compared to the theoretical order of accuracy for the numerical method employed in the simulation. If the two match (to a reasonable degree), then one can be confident that the simulation code is working as expected. The remainder of this subsection will give instructions for convergence tests for this MMS problem.\n",
    "\n",
    "Implement the MMS problem specified above using the simulation code of your choice. Perform a spatial convergence test by running the simulation for a variety of mesh sizes. For each simulation, determine the discrete $L_2$ norm of the error at $t=8$:\n",
    "\n",
    "$$\\begin{equation}\n",
    "    L_2 = \\sqrt{\\sum\\limits_{x,y}\\left(\\eta^{t=8}_{x,y} - \\eta_{sol}(x,y,8)\\right)^2 \\Delta x \\Delta y}\n",
    "\\end{equation}$$\n",
    "\n",
    "For all of these simulations, verify that the time step is small enough that any temporal error is much smaller that the total error. This can be accomplished by decreasing the time step until it has minimal effect on the error. Ensure that at least three simulation results have $L_2$ errors in the range $[5\\times10^{-3}, 1\\times10^{-4}]$, attempting to cover as much of that range as possible/practical. This maximum and minimum errors in the range roughly represent a poorly resolved simulation and a very well-resolved simulation.\n",
    "\n",
    "For at least three simulations that have $L_2$ errors in the range $[5\\times10^{-3}, 1\\times10^{-4}]$, save the effective mesh size and $L_2$ error in a CSV or JSON file. Upload this file to the PFHub website as a 2D data set with the effective mesh size as the x-axis column and the $L_2$ error as the y-axis column. Calculate the effective element size as the square root of the area of the finest part of the mesh for nonuniform meshes. For irregular meshes with continous distributions of element sizes, approximate the effective mesh size as the average of the square root of the area of the smallest 5% of the elements.\n",
    "\n",
    "Next, confirm that the observed order of accuracy is approximately equal to the expected value. Calculate the order of accuracy, $p$, with a least squares fit of the following function:\n",
    "\n",
    "$$\\begin{equation}\n",
    "    \\log(E)=p \\log(R) + b\n",
    "\\end{equation}$$\n",
    "\n",
    "where $E$ is the $L_2$ error, $R$ is the effective element size, and b is an intercept. Deviations of ±0.2 or more from the theoretical value are to be expected (depending on the range of errors considered and other factors).\n",
    "\n",
    "Finally, perform a similar convergence test, but for the time step, systematically changing the time step and recording the $L_2$ error. Use a time step that does not vary over the course of any single simulation. Verify that the spatial discretization error is small enough that it does not substantially contribute to the total error. Once again, ensure that at least three simulations have $L_2$ errors in the range $[5\\times10^{-3}, 1\\times10^{-4}]$, attempting to cover as much of that range as possible/practical. Save the effective mesh size and $L_2$ error for each individual simulation in a CSV or JSON file. [Upload this file to the PFHub website](https://pages.nist.gov/pfhub/simulations/upload_form/) as a 2D data set with the time step size as the x-axis column and the $L_2$ error as the y-axis column. Confirm that the observed order of accuracy is approximately equal to the expected value."
   ]
  },
  {
   "cell_type": "markdown",
   "metadata": {},
   "source": [
    "## Part (b)\n",
    "Now that your code has been verified in (a), the objective of this part is to determine the computational performance of your code at various levels of error. These results can then be used to objectively compare the performance between codes or settings within the same code. To make the problem more computationally demanding and stress solvers more than in (a), decrease $\\kappa$ by a factor of $256$ to $1.5625\\times10^{-6}$. This change will reduce the interfacial thickness by a factor of $16$.\n",
    "\n",
    "Run a series of simulations, attempting to optimize solver parameters (mesh, time step, tolerances, etc.) to minimize the required computational resources for at least three levels of $L_2$ error in range  $[5\\times10^{-3}, 1\\times10^{-5}]$. Use the same CPU and processor type for all simulations. For the best of these simulations, save the wall time, number of computing cores, maximum memory usage, and $L_2$ error for each individual simulation in a CSV or JSON file. [Upload this to the PFHub website](https://pages.nist.gov/pfhub/simulations/upload_form/) as a 3D data set with the wall time as the x-axis column, the number of computing cores as the y-axis column, and the $L_2$ error as the z-axis column. (The PFHub upload system is currently limited to three columns of data. Once this constraint is relaxed, the maximum memory usage data will be incorporated as well.)\n",
    "\n",
    "<!---For the best of these simulations, submit the wall time, number of computing cores, processor speed, maximum memory usage, and $L_2$ error at $t=8$ to the CHiMaD website.--->"
   ]
  },
  {
   "cell_type": "markdown",
   "metadata": {},
   "source": [
    "## Part (c)\n",
    "This final part is designed to stress time integrators even further by increasing the rate of change of $\\alpha(x,t)$. Increase $C_2$ to $0.5$. Keep $\\kappa= 1.5625\\times10^{-6}$ from (b).\n",
    "\n",
    "Repeat the process from (b), uploading the wall time, number of computing cores, processor speed, maximum memory usage, and $L_2$ error at $t=8$ to the PFHub website."
   ]
  },
  {
   "cell_type": "markdown",
   "metadata": {},
   "source": [
    "# Results\n",
    "Results from this benchmark problem are displayed on the [simulation result page]({{ site.baseurl }}/simulations) for different codes."
   ]
  },
  {
   "cell_type": "markdown",
   "metadata": {},
   "source": [
    "# Feedback\n",
    "Feedback on this benchmark problem is appreciated. If you have questions, comments, or seek clarification, please contact the [CHiMaD phase field community](https://pages.nist.gov/chimad-phase-field/community/) through the [Gitter chat channel](https://gitter.im/usnistgov/chimad-phase-field) or by [email](https://pages.nist.gov/chimad-phase-field/mailing_list/). If you found an error, please file an [issue on GitHub](https://github.com/usnistgov/chimad-phase-field/issues/new)."
   ]
  },
  {
   "cell_type": "markdown",
   "metadata": {
    "collapsed": true
   },
   "source": [
    "# Appendix\n",
    "\n",
    "## Computer algebra systems\n",
    "Rigorous verification of software frameworks using MMS requires posing the equation and manufacturing the solution with as much complexity as possible. This can be straight-forward, but interesting equations produce complicated source terms. To streamline the MMS workflow, it is strongly recommended that you use a CAS such as SymPy, Maple, or Mathematica to generate source equations and turn it into executable code automatically. For accessibility, we will use [SymPy](http://www.sympy.org/), but so long as vector calculus is supported, and CAS will do."
   ]
  },
  {
   "cell_type": "markdown",
   "metadata": {},
   "source": [
    "## Source term"
   ]
  },
  {
   "cell_type": "code",
   "execution_count": 162,
   "metadata": {
    "collapsed": true
   },
   "outputs": [],
   "source": [
    "from sympy import Symbol, symbols, simplify\n",
    "from sympy import Eq, sin, cos, cosh, sinh, tanh, sqrt\n",
    "from sympy.physics.vector import divergence, gradient, ReferenceFrame, time_derivative\n",
    "from sympy.printing import pprint\n",
    "from sympy.abc import kappa, S, t, x, y\n",
    "\n",
    "# Spatial coordinates: x=R[0], y=R[1], z=R[2]\n",
    "R = ReferenceFrame('R')\n",
    "\n",
    "# sinusoid amplitudes\n",
    "A1, A2 = symbols('A1 A2')\n",
    "B1, B2 = symbols('B1 B2')\n",
    "C1, C2 = symbols('C1 C2')\n",
    "\n",
    "# Define interface offset (alpha)\n",
    "alpha = (1/4 + A1 * t * sin(B1 * R[0]) \n",
    "             + A2 * sin(B2 * R[0] + C2 * t)\n",
    "        ).subs({R[0]: x, R[1]: y})\n",
    "\n",
    "# Define the solution equation (eta)    \n",
    "eta = (1/2 * (1 - tanh((R[1] - alpha) /\n",
    "                        sqrt(2*kappa)))\n",
    "      ).subs({R[0]: x, R[1]: y})\n",
    "\n",
    "# Compute the initial condition\n",
    "eta0 = eta.subs({t: 0, R[0]: x, R[1]: y})\n",
    "\n",
    "# Compute the source term from the equation of motion\n",
    "S = simplify(time_derivative(eta, R)\n",
    "             + 4 * eta * (eta - 1) * (eta - 1/2)\n",
    "             - divergence(kappa * gradient(eta, R), R)\n",
    "            ).subs({R[0]: x, R[1]: y})"
   ]
  },
  {
   "cell_type": "code",
   "execution_count": 163,
   "metadata": {},
   "outputs": [
    {
     "name": "stdout",
     "output_type": "stream",
     "text": [
      "α = A₁⋅t⋅sin(B₁⋅x) + A₂⋅sin(B₂⋅x + C₂⋅t) + 0.25\n"
     ]
    }
   ],
   "source": [
    "pprint(Eq(symbols('alpha'), alpha))"
   ]
  },
  {
   "cell_type": "code",
   "execution_count": 164,
   "metadata": {},
   "outputs": [
    {
     "name": "stdout",
     "output_type": "stream",
     "text": [
      "              ⎛√2⋅(-A₁⋅t⋅sin(B₁⋅x) - A₂⋅sin(B₂⋅x + C₂⋅t) + y - 0.25)⎞      \n",
      "η = - 0.5⋅tanh⎜─────────────────────────────────────────────────────⎟ + 0.5\n",
      "              ⎝                         2⋅√κ                        ⎠      \n"
     ]
    }
   ],
   "source": [
    "pprint(Eq(symbols('eta'), eta))"
   ]
  },
  {
   "cell_type": "code",
   "execution_count": 165,
   "metadata": {},
   "outputs": [
    {
     "name": "stdout",
     "output_type": "stream",
     "text": [
      "               ⎛√2⋅(-A₂⋅sin(B₂⋅x) + y - 0.25)⎞      \n",
      "η₀ = - 0.5⋅tanh⎜─────────────────────────────⎟ + 0.5\n",
      "               ⎝             2⋅√κ            ⎠      \n"
     ]
    }
   ],
   "source": [
    "pprint(Eq(symbols('eta0'), eta0))"
   ]
  },
  {
   "cell_type": "code",
   "execution_count": 166,
   "metadata": {},
   "outputs": [
    {
     "name": "stdout",
     "output_type": "stream",
     "text": [
      "    ⎛           ⎛√2⋅(A₁⋅t⋅sin(B₁⋅x) + A₂⋅sin(B₂⋅x + C₂⋅t) - y + 0.25)⎞        \n",
      "    ⎜0.5⋅√κ⋅tanh⎜────────────────────────────────────────────────────⎟ - 0.25⋅\n",
      "    ⎝           ⎝                        2⋅√κ                        ⎠        \n",
      "S = ──────────────────────────────────────────────────────────────────────────\n",
      "                                                                              \n",
      "\n",
      "                                          ⎞ ⎛    2⎛√2⋅(A₁⋅t⋅sin(B₁⋅x) + A₂⋅sin\n",
      "√2⋅(A₁⋅sin(B₁⋅x) + A₂⋅C₂⋅cos(B₂⋅x + C₂⋅t))⎟⋅⎜tanh ⎜───────────────────────────\n",
      "                                          ⎠ ⎝     ⎝                        2⋅√\n",
      "──────────────────────────────────────────────────────────────────────────────\n",
      "                 √κ                                                           \n",
      "\n",
      "(B₂⋅x + C₂⋅t) - y + 0.25)⎞    ⎞\n",
      "─────────────────────────⎟ - 1⎟\n",
      "κ                        ⎠    ⎠\n",
      "───────────────────────────────\n",
      "                               \n"
     ]
    }
   ],
   "source": [
    "pprint(Eq(symbols('S'), S))"
   ]
  },
  {
   "cell_type": "markdown",
   "metadata": {},
   "source": [
    "## Code"
   ]
  },
  {
   "cell_type": "markdown",
   "metadata": {},
   "source": [
    "### Python\n",
    "\n",
    "Copy the first cell under Source Term directly into your program.\n",
    "For a performance boost, convert the expressions into lambda functions:\n",
    "```python\n",
    "from sympy.utilities.lambdify import lambdify\n",
    "\n",
    "apy = lambdify([x, y], alpha, modules='sympy')\n",
    "epy = lambdify([x, y], eta,   modules='sympy')\n",
    "ipy = lambdify([x, y], eta0,  modules='sympy')\n",
    "Spy = lambdify([x, y], S,     modules='sympy')\n",
    "```\n",
    "#### *N.B.*: You may need to add coefficients to the variables list."
   ]
  },
  {
   "cell_type": "markdown",
   "metadata": {},
   "source": [
    "### C"
   ]
  },
  {
   "cell_type": "code",
   "execution_count": 167,
   "metadata": {},
   "outputs": [
    {
     "name": "stdout",
     "output_type": "stream",
     "text": [
      "/******************************************************************************\n",
      " *                      Code generated with sympy 1.1.1                       *\n",
      " *                                                                            *\n",
      " *              See http://www.sympy.org/ for more information.               *\n",
      " *                                                                            *\n",
      " *                        This file is part of 'PFHub'                        *\n",
      " ******************************************************************************/\n",
      "#include \"MMS.h\"\n",
      "#include <math.h>\n",
      "\n",
      "double alpha(double A1, double A2, double B1, double B2, double C2, double t, double x) {\n",
      "\n",
      "   double alpha_result;\n",
      "   alpha_result = A1*t*sin(B1*x) + A2*sin(B2*x + C2*t) + 0.25;\n",
      "   return alpha_result;\n",
      "\n",
      "}\n",
      "\n",
      "double eta(double A1, double A2, double B1, double B2, double C2, double kappa, double t, double x, double y) {\n",
      "\n",
      "   double eta_result;\n",
      "   eta_result = -0.5*tanh((1.0L/2.0L)*sqrt(2)*(-A1*t*sin(B1*x) - A2*sin(B2*x + C2*t) + y - 0.25)/sqrt(kappa)) + 0.5;\n",
      "   return eta_result;\n",
      "\n",
      "}\n",
      "\n",
      "double eta0(double A2, double B2, double kappa, double x, double y) {\n",
      "\n",
      "   double eta0_result;\n",
      "   eta0_result = -0.5*tanh((1.0L/2.0L)*sqrt(2)*(-A2*sin(B2*x) + y - 0.25)/sqrt(kappa)) + 0.5;\n",
      "   return eta0_result;\n",
      "\n",
      "}\n",
      "\n",
      "double S(double A1, double A2, double B1, double B2, double C2, double kappa, double t, double x, double y) {\n",
      "\n",
      "   double S_result;\n",
      "   S_result = (0.5*sqrt(kappa)*tanh((1.0L/2.0L)*sqrt(2)*(A1*t*sin(B1*x) + A2*sin(B2*x + C2*t) - y + 0.25)/sqrt(kappa)) - 0.25*sqrt(2)*(A1*sin(B1*x) + A2*C2*cos(B2*x + C2*t)))*(pow(tanh((1.0L/2.0L)*sqrt(2)*(A1*t*sin(B1*x) + A2*sin(B2*x + C2*t) - y + 0.25)/sqrt(kappa)), 2) - 1)/sqrt(kappa);\n",
      "   return S_result;\n",
      "\n",
      "}\n",
      "\n"
     ]
    }
   ],
   "source": [
    "from sympy.utilities.codegen import codegen\n",
    "\n",
    "[(c_name, c_code), (h_name, c_header)] = codegen([('alpha', alpha),\n",
    "                                                  ('eta', eta),\n",
    "                                                  ('eta0', eta0),\n",
    "                                                  ('S', S)],\n",
    "                                                 language='C', prefix='MMS', project='PFHub')\n",
    "print(c_code)"
   ]
  },
  {
   "cell_type": "markdown",
   "metadata": {},
   "source": [
    "### C++"
   ]
  },
  {
   "cell_type": "code",
   "execution_count": 168,
   "metadata": {
    "collapsed": true
   },
   "outputs": [],
   "source": [
    "from sympy.printing.cxxcode import cxxcode"
   ]
  },
  {
   "cell_type": "code",
   "execution_count": 169,
   "metadata": {},
   "outputs": [
    {
     "name": "stdout",
     "output_type": "stream",
     "text": [
      "α:\n"
     ]
    },
    {
     "data": {
      "text/plain": [
       "'A1*t*sin(B1*x) + A2*sin(B2*x + C2*t) + 0.25'"
      ]
     },
     "execution_count": 169,
     "metadata": {},
     "output_type": "execute_result"
    }
   ],
   "source": [
    "print(\"α:\")\n",
    "cxxcode(alpha)"
   ]
  },
  {
   "cell_type": "code",
   "execution_count": 170,
   "metadata": {},
   "outputs": [
    {
     "name": "stdout",
     "output_type": "stream",
     "text": [
      "η:\n"
     ]
    },
    {
     "data": {
      "text/plain": [
       "'-0.5*tanh((1.0L/2.0L)*std::sqrt(2)*(-A1*t*sin(B1*x) - A2*sin(B2*x + C2*t) + y - 0.25)/std::sqrt(kappa)) + 0.5'"
      ]
     },
     "execution_count": 170,
     "metadata": {},
     "output_type": "execute_result"
    }
   ],
   "source": [
    "print(\"η:\")\n",
    "cxxcode(eta)"
   ]
  },
  {
   "cell_type": "code",
   "execution_count": 171,
   "metadata": {},
   "outputs": [
    {
     "name": "stdout",
     "output_type": "stream",
     "text": [
      "η₀:\n"
     ]
    },
    {
     "data": {
      "text/plain": [
       "'-0.5*tanh((1.0L/2.0L)*std::sqrt(2)*(-A2*sin(B2*x) + y - 0.25)/std::sqrt(kappa)) + 0.5'"
      ]
     },
     "execution_count": 171,
     "metadata": {},
     "output_type": "execute_result"
    }
   ],
   "source": [
    "print(\"η₀:\")\n",
    "cxxcode(eta0)"
   ]
  },
  {
   "cell_type": "code",
   "execution_count": 172,
   "metadata": {},
   "outputs": [
    {
     "name": "stdout",
     "output_type": "stream",
     "text": [
      "S:\n"
     ]
    },
    {
     "data": {
      "text/plain": [
       "'(0.5*std::sqrt(kappa)*tanh((1.0L/2.0L)*std::sqrt(2)*(A1*t*sin(B1*x) + A2*sin(B2*x + C2*t) - y + 0.25)/std::sqrt(kappa)) - 0.25*std::sqrt(2)*(A1*sin(B1*x) + A2*C2*cos(B2*x + C2*t)))*(std::pow(tanh((1.0L/2.0L)*std::sqrt(2)*(A1*t*sin(B1*x) + A2*sin(B2*x + C2*t) - y + 0.25)/std::sqrt(kappa)), 2) - 1)/std::sqrt(kappa)'"
      ]
     },
     "execution_count": 172,
     "metadata": {},
     "output_type": "execute_result"
    }
   ],
   "source": [
    "print(\"S:\")\n",
    "cxxcode(S)"
   ]
  },
  {
   "cell_type": "markdown",
   "metadata": {},
   "source": [
    "### Fortran"
   ]
  },
  {
   "cell_type": "code",
   "execution_count": 173,
   "metadata": {
    "collapsed": true
   },
   "outputs": [],
   "source": [
    "from sympy.printing import fcode"
   ]
  },
  {
   "cell_type": "code",
   "execution_count": 174,
   "metadata": {},
   "outputs": [
    {
     "name": "stdout",
     "output_type": "stream",
     "text": [
      "α:\n"
     ]
    },
    {
     "data": {
      "text/plain": [
       "'      A1*t*sin(B1*x) + A2*sin(B2*x + C2*t) + 0.25d0'"
      ]
     },
     "execution_count": 174,
     "metadata": {},
     "output_type": "execute_result"
    }
   ],
   "source": [
    "print(\"α:\")\n",
    "fcode(alpha)"
   ]
  },
  {
   "cell_type": "code",
   "execution_count": 175,
   "metadata": {},
   "outputs": [
    {
     "name": "stdout",
     "output_type": "stream",
     "text": [
      "η:\n"
     ]
    },
    {
     "data": {
      "text/plain": [
       "'      -0.5d0*tanh(0.707106781186548d0*kappa**(-0.5d0)*(-A1*t*sin(B1*x) -\\n     @ A2*sin(B2*x + C2*t) + y - 0.25d0)) + 0.5d0'"
      ]
     },
     "execution_count": 175,
     "metadata": {},
     "output_type": "execute_result"
    }
   ],
   "source": [
    "print(\"η:\")\n",
    "fcode(eta)"
   ]
  },
  {
   "cell_type": "code",
   "execution_count": 176,
   "metadata": {},
   "outputs": [
    {
     "name": "stdout",
     "output_type": "stream",
     "text": [
      "η₀:\n"
     ]
    },
    {
     "data": {
      "text/plain": [
       "'      -0.5d0*tanh(0.707106781186548d0*kappa**(-0.5d0)*(-A2*sin(B2*x) + y\\n     @ - 0.25d0)) + 0.5d0'"
      ]
     },
     "execution_count": 176,
     "metadata": {},
     "output_type": "execute_result"
    }
   ],
   "source": [
    "print(\"η₀:\")\n",
    "fcode(eta0)"
   ]
  },
  {
   "cell_type": "code",
   "execution_count": 177,
   "metadata": {},
   "outputs": [
    {
     "name": "stdout",
     "output_type": "stream",
     "text": [
      "S:\n"
     ]
    },
    {
     "data": {
      "text/plain": [
       "'      (0.5d0*sqrt(kappa)*tanh(0.707106781186548d0*kappa**(-0.5d0)*(A1*t*\\n     @ sin(B1*x) + A2*sin(B2*x + C2*t) - y + 0.25d0)) - 0.25d0*sqrt(\\n     @ 2.0d0)*(A1*sin(B1*x) + A2*C2*cos(B2*x + C2*t)))*(tanh(\\n     @ 0.707106781186548d0*kappa**(-0.5d0)*(A1*t*sin(B1*x) + A2*sin(B2*x\\n     @ + C2*t) - y + 0.25d0))**2 - 1)/sqrt(kappa)'"
      ]
     },
     "execution_count": 177,
     "metadata": {},
     "output_type": "execute_result"
    }
   ],
   "source": [
    "print(\"S:\")\n",
    "fcode(S)"
   ]
  },
  {
   "cell_type": "markdown",
   "metadata": {},
   "source": [
    "### Julia"
   ]
  },
  {
   "cell_type": "code",
   "execution_count": 178,
   "metadata": {
    "collapsed": true
   },
   "outputs": [],
   "source": [
    "from sympy.printing import julia_code"
   ]
  },
  {
   "cell_type": "code",
   "execution_count": 179,
   "metadata": {},
   "outputs": [
    {
     "name": "stdout",
     "output_type": "stream",
     "text": [
      "α:\n"
     ]
    },
    {
     "data": {
      "text/plain": [
       "'A1.*t.*sin(B1.*x) + A2.*sin(B2.*x + C2.*t) + 0.25'"
      ]
     },
     "execution_count": 179,
     "metadata": {},
     "output_type": "execute_result"
    }
   ],
   "source": [
    "print(\"α:\")\n",
    "julia_code(alpha)"
   ]
  },
  {
   "cell_type": "code",
   "execution_count": 180,
   "metadata": {},
   "outputs": [
    {
     "name": "stdout",
     "output_type": "stream",
     "text": [
      "η:\n"
     ]
    },
    {
     "data": {
      "text/plain": [
       "'-0.5*tanh(sqrt(2)*(-A1.*t.*sin(B1.*x) - A2.*sin(B2.*x + C2.*t) + y - 0.25)./(2*sqrt(kappa))) + 0.5'"
      ]
     },
     "execution_count": 180,
     "metadata": {},
     "output_type": "execute_result"
    }
   ],
   "source": [
    "print(\"η:\")\n",
    "julia_code(eta)"
   ]
  },
  {
   "cell_type": "code",
   "execution_count": 181,
   "metadata": {},
   "outputs": [
    {
     "name": "stdout",
     "output_type": "stream",
     "text": [
      "η₀:\n"
     ]
    },
    {
     "data": {
      "text/plain": [
       "'-0.5*tanh(sqrt(2)*(-A2.*sin(B2.*x) + y - 0.25)./(2*sqrt(kappa))) + 0.5'"
      ]
     },
     "execution_count": 181,
     "metadata": {},
     "output_type": "execute_result"
    }
   ],
   "source": [
    "print(\"η₀:\")\n",
    "julia_code(eta0)"
   ]
  },
  {
   "cell_type": "code",
   "execution_count": 182,
   "metadata": {},
   "outputs": [
    {
     "name": "stdout",
     "output_type": "stream",
     "text": [
      "S:\n"
     ]
    },
    {
     "data": {
      "text/plain": [
       "'(0.5*sqrt(kappa).*tanh(sqrt(2)*(A1.*t.*sin(B1.*x) + A2.*sin(B2.*x + C2.*t) - y + 0.25)./(2*sqrt(kappa))) - 0.25*sqrt(2)*(A1.*sin(B1.*x) + A2.*C2.*cos(B2.*x + C2.*t))).*(tanh(sqrt(2)*(A1.*t.*sin(B1.*x) + A2.*sin(B2.*x + C2.*t) - y + 0.25)./(2*sqrt(kappa))).^2 - 1)./sqrt(kappa)'"
      ]
     },
     "execution_count": 182,
     "metadata": {},
     "output_type": "execute_result"
    }
   ],
   "source": [
    "print(\"S:\")\n",
    "julia_code(S)"
   ]
  },
  {
   "cell_type": "markdown",
   "metadata": {},
   "source": [
    "### Mathematica"
   ]
  },
  {
   "cell_type": "code",
   "execution_count": 183,
   "metadata": {
    "collapsed": true
   },
   "outputs": [],
   "source": [
    "from sympy.printing import mathematica_code"
   ]
  },
  {
   "cell_type": "code",
   "execution_count": 184,
   "metadata": {},
   "outputs": [
    {
     "name": "stdout",
     "output_type": "stream",
     "text": [
      "α:\n"
     ]
    },
    {
     "data": {
      "text/plain": [
       "'A1*t*Sin[B1*x] + A2*Sin[B2*x + C2*t] + 0.25'"
      ]
     },
     "execution_count": 184,
     "metadata": {},
     "output_type": "execute_result"
    }
   ],
   "source": [
    "print(\"α:\")\n",
    "mathematica_code(alpha)"
   ]
  },
  {
   "cell_type": "code",
   "execution_count": 185,
   "metadata": {},
   "outputs": [
    {
     "name": "stdout",
     "output_type": "stream",
     "text": [
      "η:\n"
     ]
    },
    {
     "data": {
      "text/plain": [
       "'-0.5*Tanh[(1/2)*2^(1/2)*(-A1*t*Sin[B1*x] - A2*Sin[B2*x + C2*t] + y - 0.25)/kappa^(1/2)] + 0.5'"
      ]
     },
     "execution_count": 185,
     "metadata": {},
     "output_type": "execute_result"
    }
   ],
   "source": [
    "print(\"η:\")\n",
    "mathematica_code(eta)"
   ]
  },
  {
   "cell_type": "code",
   "execution_count": 186,
   "metadata": {},
   "outputs": [
    {
     "name": "stdout",
     "output_type": "stream",
     "text": [
      "η₀:\n"
     ]
    },
    {
     "data": {
      "text/plain": [
       "'-0.5*Tanh[(1/2)*2^(1/2)*(-A2*Sin[B2*x] + y - 0.25)/kappa^(1/2)] + 0.5'"
      ]
     },
     "execution_count": 186,
     "metadata": {},
     "output_type": "execute_result"
    }
   ],
   "source": [
    "print(\"η₀:\")\n",
    "mathematica_code(eta0)"
   ]
  },
  {
   "cell_type": "code",
   "execution_count": 187,
   "metadata": {},
   "outputs": [
    {
     "name": "stdout",
     "output_type": "stream",
     "text": [
      "S:\n"
     ]
    },
    {
     "data": {
      "text/plain": [
       "'(0.5*kappa^(1/2)*Tanh[(1/2)*2^(1/2)*(A1*t*Sin[B1*x] + A2*Sin[B2*x + C2*t] - y + 0.25)/kappa^(1/2)] - 0.25*2^(1/2)*(A1*Sin[B1*x] + A2*C2*Cos[B2*x + C2*t]))*(Tanh[(1/2)*2^(1/2)*(A1*t*Sin[B1*x] + A2*Sin[B2*x + C2*t] - y + 0.25)/kappa^(1/2)]^2 - 1)/kappa^(1/2)'"
      ]
     },
     "execution_count": 187,
     "metadata": {},
     "output_type": "execute_result"
    }
   ],
   "source": [
    "print(\"S:\")\n",
    "mathematica_code(S)"
   ]
  },
  {
   "cell_type": "code",
   "execution_count": null,
   "metadata": {
    "collapsed": true
   },
   "outputs": [],
   "source": []
  }
 ],
 "metadata": {
  "kernelspec": {
   "display_name": "Python 3",
   "language": "python",
   "name": "python3"
  },
  "language_info": {
   "codemirror_mode": {
    "name": "ipython",
    "version": 3
   },
   "file_extension": ".py",
   "mimetype": "text/x-python",
   "name": "python",
   "nbconvert_exporter": "python",
   "pygments_lexer": "ipython3",
   "version": "3.6.3"
  }
 },
 "nbformat": 4,
 "nbformat_minor": 2
}
